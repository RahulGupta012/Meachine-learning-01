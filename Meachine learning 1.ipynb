{
 "cells": [
  {
   "cell_type": "markdown",
   "id": "824a28c7-ae6c-4ed5-9996-00af624be3da",
   "metadata": {},
   "source": [
    "##                               ASIGHNMENT: INTRTODUCTION TO MEACHINE LEARNING 01"
   ]
  },
  {
   "cell_type": "markdown",
   "id": "83225309-81e9-428f-8d01-e332e848409d",
   "metadata": {},
   "source": [
    "____________________________________________________________________________________________________________________________________________________"
   ]
  },
  {
   "cell_type": "markdown",
   "id": "5bcfc519-c051-4379-b399-d35b669b3ceb",
   "metadata": {},
   "source": [
    "# Explain following with an example:\n",
    "    \n",
    "1. Artificial intelligance\n",
    "2. Meachine Learning\n",
    "3. Deep learning"
   ]
  },
  {
   "cell_type": "markdown",
   "id": "83755c60-f337-497c-9952-59fa068d217a",
   "metadata": {},
   "source": [
    "Basically these all are interlinked with each other, even the Artificial intelligance, which is ai in the short,is a big circle in which Machine learning lies and in the circle of machine learing Deep Learning lies.\n",
    "\n",
    "- ai.)\n",
    "Artificial intelligence basically deals with intelligance of human or human behviours. it is works like rorbotic meachines.Self-driven-vechieles, google translator are the examples of ai.\n",
    "\n",
    "- ML.)\n",
    "Meachine learning is basically a application of artificial intelligence which allow a system automatically learn and improve by experience. The recommendation systems of various application like Netflix, amazon are the good example of Meachine learning models.\n",
    "\n",
    "- DL.)\n",
    "Deep learing is a application of meachine learning that uses  the complex algorithms and deeps neural nets to train a model.Object detection and image coluring application are the example of deep learning.\n",
    "\n"
   ]
  },
  {
   "cell_type": "markdown",
   "id": "afa1a37b-be7a-4fd9-936b-a90e4c1ec092",
   "metadata": {
    "tags": []
   },
   "source": [
    "# What is supervised learning? list of some examples of supervised learning."
   ]
  },
  {
   "cell_type": "markdown",
   "id": "eff750f6-e28c-4217-a4e9-0fc5cb159c99",
   "metadata": {},
   "source": [
    "- There are three types of Meachine learning, Supervised learning is one of them. In the supervised meachine learning there are highly importance of inputs and outputs. The output are already fixed is in the datasets , the supervised meachine learning model train theirself for reconizing the appropriate output for given input. \n",
    "- Example: let's say, that we have a dataset in which there are pictures of various fruits like mango,apple,banana etc with their respective names. then the supervised learning model go through all the pictures and names and tarin theirself as reconizing the fruits. When input is given by \"Banana\" it (model) shows the image of banana in the output. It is basically the supervised meachine learning."
   ]
  },
  {
   "cell_type": "markdown",
   "id": "d18808eb-188c-4c2b-883f-e8d583d2ca47",
   "metadata": {},
   "source": [
    "# What is unsupervised learning ? list of some example of unsupervised learning."
   ]
  },
  {
   "cell_type": "markdown",
   "id": "db579e43-c072-4aed-a785-5ebfa64bd9b9",
   "metadata": {},
   "source": [
    "- It is also a type of Meachine learning, In the unsupervised learning, there are not much significence of inputs and outputs. In the unsupervised meachine learning we mainly focused on the clusters of the data. \"Cluster of the data\" means the data in a specific region, these are the unlabled data sets.\n",
    "- Example; let's think that there are a dataset, in which there are the random pictures of cat and dogs, the suoervised model works for making the clusters of certain type of data ,..ie..cat and dog."
   ]
  },
  {
   "cell_type": "markdown",
   "id": "93e4491b-45f8-4459-bba7-1fcc83682055",
   "metadata": {},
   "source": [
    "#  What is train, test and validation split? Explain the importance of each term."
   ]
  },
  {
   "cell_type": "markdown",
   "id": "1af15090-85e6-45aa-acfa-397f028bc898",
   "metadata": {},
   "source": [
    "For making a algoritham, we need a dataset and for proceeding the further we divided the datasets into three parts: such as Train, validation and Test. A model goes from these three models to become an algoritham. \n",
    "- Train: in this particular section model will trained.\n",
    "- validation: in this section the further modifiaction of a model has done, to make it more accurate.\n",
    "- Test: it is the last step for the testing of the model."
   ]
  },
  {
   "cell_type": "code",
   "execution_count": null,
   "id": "28d959fb-b8a5-4ab7-9458-c94357f18e86",
   "metadata": {},
   "outputs": [],
   "source": []
  }
 ],
 "metadata": {
  "kernelspec": {
   "display_name": "Python 3 (ipykernel)",
   "language": "python",
   "name": "python3"
  },
  "language_info": {
   "codemirror_mode": {
    "name": "ipython",
    "version": 3
   },
   "file_extension": ".py",
   "mimetype": "text/x-python",
   "name": "python",
   "nbconvert_exporter": "python",
   "pygments_lexer": "ipython3",
   "version": "3.10.8"
  }
 },
 "nbformat": 4,
 "nbformat_minor": 5
}
